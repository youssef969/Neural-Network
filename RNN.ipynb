{
 "cells": [
  {
   "cell_type": "code",
   "execution_count": 194,
   "id": "fbf53f99",
   "metadata": {},
   "outputs": [],
   "source": [
    "import numpy as np \n",
    "import math"
   ]
  },
  {
   "cell_type": "code",
   "execution_count": 195,
   "id": "4cb5ab07",
   "metadata": {},
   "outputs": [],
   "source": [
    "class Activition_functions():\n",
    "\n",
    "    @staticmethod\n",
    "    def Tanh(z):\n",
    "        return (math.exp(z) - math.exp(-z)) / (math.exp(z) + math.exp(-z))\n",
    "     \n",
    "    def softmax(vector):\n",
    "        e = np.exp(vector)\n",
    "        return e / e.sum()"
   ]
  },
  {
   "cell_type": "code",
   "execution_count": 196,
   "id": "ee69f308",
   "metadata": {},
   "outputs": [
    {
     "name": "stderr",
     "output_type": "stream",
     "text": [
      "C:\\Users\\Computec\\AppData\\Local\\Temp\\ipykernel_20288\\3150391295.py:9: DeprecationWarning: Conversion of an array with ndim > 0 to a scalar is deprecated, and will error in future. Ensure you extract a single element from your array before performing this operation. (Deprecated NumPy 1.25.)\n",
      "  c = np.array([Activition_functions.Tanh(float(x))  for x in list(v)]).reshape((3,1))\n"
     ]
    },
    {
     "data": {
      "text/plain": [
       "array([[0.321599  ],\n",
       "       [0.2149301 ],\n",
       "       [0.24193486],\n",
       "       [0.22153605]])"
      ]
     },
     "execution_count": 196,
     "metadata": {},
     "output_type": "execute_result"
    }
   ],
   "source": [
    "W_H = np.array([[0.1 ,0.5 , 0.1],[0.5,0.9,0.2],[0.1,0.3,0.1]])\n",
    "\n",
    "W_X = np.array([[0.6,0.8,0.4,0.8],[0.2,0.2,0.8,0.7],[0.9,0.8,0.1,0.2]])\n",
    "\n",
    "W_Y = np.array([[0.9,0.8,0.3],[0.2,0.3,0.4],[0.6,0.9,0.1],[0.5,0.0,0.3]])\n",
    "\n",
    "v = np.dot(W_H,np.zeros((3,1))) + np.dot(W_X,np.array([1,0,0,0]).reshape((4,1)))\n",
    "\n",
    "c = np.array([Activition_functions.Tanh(float(x))  for x in list(v)]).reshape((3,1))\n",
    "\n",
    "\n",
    "Activition_functions.softmax(np.dot(W_Y,c))"
   ]
  },
  {
   "cell_type": "code",
   "execution_count": 197,
   "id": "ab97b784",
   "metadata": {},
   "outputs": [],
   "source": [
    "class RNN():\n",
    "    def __init__(self,word:str,k:int,d:int,W_H: np.array = None, W_X: np.array = None, W_Y: np.array = None):\n",
    "        self.k =k\n",
    "        self.d =d\n",
    "        self.word = word\n",
    "        self.W_H = np.random.uniform(-1, 1, size=(self.d, self.d)) if W_H is None else W_H\n",
    "        self.W_X = np.random.uniform(-1, 1, size=(self.d, self.k)) if W_X is None else W_X\n",
    "        self.W_Y = np.random.uniform(-1, 1, size=(self.k, self.d)) if W_Y is None else W_Y\n",
    "        self.h = {\"t1\":np.zeros((self.d,1))}\n",
    "        self.letter = self.__one_hot_list()\n",
    "        \n",
    "\n",
    "    def __one_hot_list(self,):\n",
    "        unique_chars = self.word\n",
    "        char_to_index = {char: idx for idx, char in enumerate(unique_chars)}\n",
    "        one_hot_vectors = []\n",
    "        for char in self.word:\n",
    "            vector = [0] * len(unique_chars)  \n",
    "            vector[char_to_index[char]] = 1 \n",
    "            one_hot_vectors.append(vector)    \n",
    "        return one_hot_vectors\n",
    "    \n",
    "    \n",
    "    def Rnn_forward(self):\n",
    "        for x in range(len(self.letter)):\n",
    "            first_step = np.dot(self.W_H,self.h[f\"t{x+1}\"]) + np.dot(self.W_X,np.array(self.letter[x]).reshape((4,1)))\n",
    "            second_step = np.array([Activition_functions.Tanh(float(x))  for x in list(first_step)]).reshape((3,1))\n",
    "            self.h[f\"t{x+1+1}\"] = second_step\n",
    "        return Activition_functions.softmax(np.dot(self.W_Y,second_step))"
   ]
  },
  {
   "cell_type": "code",
   "execution_count": 198,
   "id": "71d11e39",
   "metadata": {},
   "outputs": [
    {
     "name": "stderr",
     "output_type": "stream",
     "text": [
      "C:\\Users\\Computec\\AppData\\Local\\Temp\\ipykernel_20288\\1360227668.py:27: DeprecationWarning: Conversion of an array with ndim > 0 to a scalar is deprecated, and will error in future. Ensure you extract a single element from your array before performing this operation. (Deprecated NumPy 1.25.)\n",
      "  second_step = np.array([Activition_functions.Tanh(float(x))  for x in list(first_step)]).reshape((3,1))\n"
     ]
    },
    {
     "data": {
      "text/plain": [
       "array([[0.41076952],\n",
       "       [0.14419494],\n",
       "       [0.31164274],\n",
       "       [0.1333928 ]])"
      ]
     },
     "execution_count": 198,
     "metadata": {},
     "output_type": "execute_result"
    }
   ],
   "source": [
    "rnn = RNN(\"dogs\",k=4,d=3,W_H=W_H,W_X=W_X,W_Y=W_Y)\n",
    "rnn.Rnn_forward()"
   ]
  }
 ],
 "metadata": {
  "kernelspec": {
   "display_name": "Python 3",
   "language": "python",
   "name": "python3"
  },
  "language_info": {
   "codemirror_mode": {
    "name": "ipython",
    "version": 3
   },
   "file_extension": ".py",
   "mimetype": "text/x-python",
   "name": "python",
   "nbconvert_exporter": "python",
   "pygments_lexer": "ipython3",
   "version": "3.13.1"
  }
 },
 "nbformat": 4,
 "nbformat_minor": 5
}

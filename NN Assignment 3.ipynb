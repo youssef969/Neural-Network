{
 "cells": [
  {
   "cell_type": "code",
   "execution_count": 11,
   "metadata": {},
   "outputs": [],
   "source": [
    "import numpy as np\n",
    "\n",
    "\n",
    "def CNN(input:np.ndarray,filter:np.ndarray):\n",
    "    input_size = input.shape[0]\n",
    "    filter_size = filter.shape[0]\n",
    "    output_size = int((input_size - filter_size) + 1)\n",
    "    output = np.zeros((output_size,output_size))  \n",
    "    for i in range(output_size): \n",
    "        for j in range(output_size):  \n",
    "            region = input[i:i+3, j:j+3]\n",
    "            output[i, j] = np.sum(region * filter,dtype=np.int16)\n",
    "    return output"
   ]
  },
  {
   "cell_type": "markdown",
   "metadata": {},
   "source": [
    "Red Channel Matrix"
   ]
  },
  {
   "cell_type": "code",
   "execution_count": 12,
   "metadata": {},
   "outputs": [
    {
     "name": "stdout",
     "output_type": "stream",
     "text": [
      "[[308. 310. 314. 318.]\n",
      " [298. 148. 158. 161.]\n",
      " [291. 141. 147. 153.]\n",
      " [290. 138. 139. 147.]]\n"
     ]
    }
   ],
   "source": [
    "matrix_R = np.array([\n",
    "    [0,0,0,0,0,0],\n",
    "    [0,156,155,156,158,158],\n",
    "    [0,153,154,157,159,159],\n",
    "    [0,149,151,155,158,159],\n",
    "    [0,146,146,149,153,158],\n",
    "    [0,145,143,143,148,158]])\n",
    "\n",
    "\n",
    "filter_R = np.array([\n",
    "    [-1,-1,1],\n",
    "    [0,1,-1],\n",
    "    [0,1,1]])\n",
    "\n",
    "\n",
    "output_R = CNN(matrix_R,filter_R)\n",
    "print(output_R)\n"
   ]
  },
  {
   "cell_type": "markdown",
   "metadata": {},
   "source": [
    "Green Channel Matrix"
   ]
  },
  {
   "cell_type": "code",
   "execution_count": 13,
   "metadata": {},
   "outputs": [
    {
     "name": "stdout",
     "output_type": "stream",
     "text": [
      "[[-498. -170. -175. -173.]\n",
      " [-491.   -8.  -14.   -9.]\n",
      " [-478.   -7.  -15.  -14.]\n",
      " [-465.    3.   -9.  -21.]]\n"
     ]
    }
   ],
   "source": [
    "matrix_G = np.array([\n",
    "    [0,0,0,0,0,0],\n",
    "    [0,167,166,167,169,169],\n",
    "    [0,164,165,168,170,170],\n",
    "    [0,160,162,166,169,170],\n",
    "    [0,156,156,159,163,168],\n",
    "    [0,155,153,153,158,168]\n",
    "])\n",
    "\n",
    "\n",
    "filter_G = np.array([\n",
    "    [1,0,0],\n",
    "    [1,-1,-1],\n",
    "    [1,0,-1]   \n",
    "    ])\n",
    "\n",
    "\n",
    "output_G = CNN(matrix_G,filter_G)\n",
    "print(output_G)\n"
   ]
  },
  {
   "cell_type": "markdown",
   "metadata": {},
   "source": [
    "Blue Channel Matrix"
   ]
  },
  {
   "cell_type": "code",
   "execution_count": 14,
   "metadata": {},
   "outputs": [
    {
     "name": "stdout",
     "output_type": "stream",
     "text": [
      "[[164. 325. 326. 329.]\n",
      " [487. 646. 653. 659.]\n",
      " [477. 641. 651. 660.]\n",
      " [467. 629. 642. 655.]]\n"
     ]
    }
   ],
   "source": [
    "matrix_B = np.array([\n",
    "    [0,0,0,0,0,0],\n",
    "    [0,163,162,163,165,165],\n",
    "    [0,160,161,164,166,166],\n",
    "    [0,156,158,162,165,166],\n",
    "    [0,155,155,158,162,167],\n",
    "    [0,154,152,152,157,167]\n",
    "])\n",
    "\n",
    "\n",
    "filter_B = np.array([\n",
    "    [0,1,1],\n",
    "    [0,1,0],\n",
    "    [1,-1,1]   \n",
    "    ])\n",
    "\n",
    "\n",
    "output_B = CNN(matrix_B,filter_B)\n",
    "print(output_B)\n",
    "\n",
    "\n",
    "\n"
   ]
  },
  {
   "cell_type": "markdown",
   "metadata": {},
   "source": [
    "The Final Result "
   ]
  },
  {
   "cell_type": "code",
   "execution_count": 15,
   "metadata": {},
   "outputs": [
    {
     "name": "stdout",
     "output_type": "stream",
     "text": [
      "[[-25 466 466 475]\n",
      " [295 787 798 812]\n",
      " [291 776 784 800]\n",
      " [293 771 773 782]]\n"
     ]
    }
   ],
   "source": [
    "values = []\n",
    "for row in range(output_B.shape[0]):\n",
    "    for column in range(output_B.shape[0]):\n",
    "        values.append(output_R[row][column] + output_G[row][column] +output_B[row][column] + 1)\n",
    "result = np.array((values),dtype=np.int16).reshape(4,4)\n",
    "\n",
    "print(result)"
   ]
  }
 ],
 "metadata": {
  "kernelspec": {
   "display_name": "Python 3",
   "language": "python",
   "name": "python3"
  },
  "language_info": {
   "codemirror_mode": {
    "name": "ipython",
    "version": 3
   },
   "file_extension": ".py",
   "mimetype": "text/x-python",
   "name": "python",
   "nbconvert_exporter": "python",
   "pygments_lexer": "ipython3",
   "version": "3.13.1"
  }
 },
 "nbformat": 4,
 "nbformat_minor": 2
}

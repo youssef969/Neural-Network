{
 "cells": [
  {
   "cell_type": "code",
   "execution_count": null,
   "metadata": {},
   "outputs": [],
   "source": [
    "import random as rn\n",
    "import math \n",
    "import numpy as np \n",
    "\n",
    "class Neural_network():\n",
    "    def __init__(self,input_layer:int,output_layer:int,):\n",
    "        \n",
    "        self.output_layer = output_layer\n",
    "        self.input_layer = input_layer\n",
    "\n",
    "    def Input_layer(self) -> dict :\n",
    "        return {f\"i{i}\": rn.uniform(-0.5,0.5) for i in range(self.input_layer)}\n",
    "        # return {\"i0\":0.05 , \"i1\":0.10}\n",
    "        \n",
    "    \n",
    "    def Hidden_layer(self,Nerons:int,weghits:list,input_layer:dict,bais:float,activation_finction):\n",
    "\n",
    "       \n",
    "        hidden_layer = {f\"h{i}\": 0 for i in range(Nerons)}\n",
    "        pathes = Nerons *self.input_layer\n",
    "        inputs = np.array(list(input_layer.values()))\n",
    "        if pathes != len(weghits):\n",
    "            raise ValueError(\"Logical Error: Number of pathes not uqual number of weights\")\n",
    "        else:\n",
    "            inputs = inputs.reshape(1,self.input_layer)\n",
    "            weights_matrix = np.array(weghits).reshape(self.input_layer,Nerons)\n",
    "             \n",
    "            \n",
    "            result = np.dot(inputs,weights_matrix)\n",
    "            result = result + bais \n",
    "            for index , Value in zip([x for x in range(Nerons)],result[0].tolist()):\n",
    "                hidden_layer[f\"h{index}\"] = activation_finction(Value)\n",
    "\n",
    "        return hidden_layer\n",
    "\n",
    "        \n",
    "    def Output_layer(self,weghits:list,Hidden_layer:dict,bais:float,activation_finction) -> dict:\n",
    "        output_layer = {f\"o{i}\": 0 for i in range(self.output_layer)}\n",
    "        pathes = len(Hidden_layer) * self.output_layer\n",
    "        if pathes != len(weghits):\n",
    "            raise ValueError(\"Logical Error: Number of pathes not uqual number of weights\")\n",
    "        else:\n",
    "            inputs = np.array(list(Hidden_layer.values())).reshape(1,len(Hidden_layer))\n",
    "            weights_matrix = np.array(weghits).reshape(len(Hidden_layer),len(output_layer))\n",
    "             \n",
    "            result = np.dot(inputs,weights_matrix)\n",
    "            result = result + bais\n",
    "            for index , Value in zip([x for x in range(self.output_layer)],result[0].tolist()):\n",
    "                output_layer[f\"o{index}\"] = activation_finction(Value)\n",
    "\n",
    "        return output_layer\n",
    "    \n",
    "    def Total_error(self,target:float,output:float):\n",
    "        return 0.5*(target - output)**2\n",
    "\n",
    "    def Tanh(self,z):\n",
    "        return (math.exp(z) - math.exp(-z)) / (math.exp(z) + math.exp(-z))\n",
    "    \n",
    "    def sigmoid(self,x):\n",
    "        return 1 / (1 + math.exp(-x))\n",
    "    \n",
    "    def Relu(self,value):\n",
    "        return max(0,value)\n",
    "    "
   ]
  },
  {
   "cell_type": "code",
   "execution_count": null,
   "metadata": {},
   "outputs": [
    {
     "name": "stdout",
     "output_type": "stream",
     "text": [
      "Intial Values to Input Layer = {'i0': 0.146158649525727, 'i1': 0.1748355119619308, 'i2': 0.41077286950259717}\n",
      "hidden Layers Nerouns Values = {'h0': 0.6267562208047404, 'h1': 0.6314595310580667}\n",
      "Output Layer Classes = {'o0': 0.7681697350152482, 'o1': 0.7388317104972915, 'o2': 0.746031501429352}\n",
      "Total error = 0.29980878409962686\n"
     ]
    }
   ],
   "source": [
    "\n",
    "nn = Neural_network(input_layer=3,output_layer=3)\n",
    "\n",
    "input_layer = nn.Input_layer()\n",
    "\n",
    "hidden_layer = nn.Hidden_layer(\n",
    "        Nerons=2,\n",
    "        # weghits=[rn.uniform(-0.5,0.5) for i in range(4)],\n",
    "        weghits=[0.15,0.2,0.25,0.30,0.25,0.26],\n",
    "        input_layer=input_layer,\n",
    "        bais=0.35,\n",
    "        activation_finction=nn.sigmoid)\n",
    "\n",
    "output_layer = nn.Output_layer(\n",
    "        # weghits=[rn.uniform(-0.5,0.5) for i in range(4)],\n",
    "        weghits=[0.40,0.45,0.50,0.55,0.25,0.26],\n",
    "        Hidden_layer=hidden_layer,\n",
    "        bais=0.60,\n",
    "        activation_finction=nn.sigmoid)\n",
    "\n",
    "\n",
    "# total_error = nn.Total_error(1,output_layer[\"o0\"]) + nn.Total_error(0,output_layer[\"o1\"])\n",
    "\n",
    "\n",
    "print(f\"Intial Values to Input Layer = {input_layer}\")\n",
    "print(f\"hidden Layers Nerouns Values = {hidden_layer}\")\n",
    "print(f\"Output Layer Classes = {output_layer}\")\n",
    "# print(f\"Total error = {total_error}\")\n",
    "\n",
    "\n"
   ]
  },
  {
   "cell_type": "code",
   "execution_count": null,
   "metadata": {},
   "outputs": [],
   "source": []
  },
  {
   "cell_type": "code",
   "execution_count": 80,
   "metadata": {},
   "outputs": [
    {
     "name": "stdout",
     "output_type": "stream",
     "text": [
      "10\n",
      "20\n",
      "30\n",
      "40\n",
      "None\n"
     ]
    }
   ],
   "source": [
    "class ListIterator:\n",
    "    def __init__(self, data):\n",
    "        self.data = data  # Store the list\n",
    "        self.index = 0    # Initialize index to track calls\n",
    "\n",
    "    def get_next_element(self):\n",
    "        if self.index < len(self.data):\n",
    "            element = self.data[self.index]\n",
    "            self.index += 1\n",
    "            return element\n",
    "        else:\n",
    "            return None  # Return None when the list is exhausted\n",
    "\n",
    "# Example Usage\n",
    "my_list = [10, 20, 30, 40]\n",
    "iterator = ListIterator(my_list)\n",
    "\n",
    "print(iterator.get_next_element())  # Output: 10\n",
    "print(iterator.get_next_element())  # Output: 20\n",
    "print(iterator.get_next_element())  # Output: 30\n",
    "print(iterator.get_next_element())  # Output: 40\n",
    "print(iterator.get_next_element())  # Output: None\n"
   ]
  }
 ],
 "metadata": {
  "kernelspec": {
   "display_name": "Python 3",
   "language": "python",
   "name": "python3"
  },
  "language_info": {
   "codemirror_mode": {
    "name": "ipython",
    "version": 3
   },
   "file_extension": ".py",
   "mimetype": "text/x-python",
   "name": "python",
   "nbconvert_exporter": "python",
   "pygments_lexer": "ipython3",
   "version": "3.13.1"
  }
 },
 "nbformat": 4,
 "nbformat_minor": 2
}

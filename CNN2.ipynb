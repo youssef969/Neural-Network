{
 "cells": [
  {
   "cell_type": "code",
   "execution_count": 64,
   "metadata": {},
   "outputs": [],
   "source": [
    "import numpy as np  "
   ]
  },
  {
   "cell_type": "code",
   "execution_count": 65,
   "metadata": {},
   "outputs": [],
   "source": [
    "class CNN():\n",
    "\n",
    "    def __init__(self,Image_channel:np.ndarray, filter: np.ndarray,Pooling_size=2, mode=\"max\", stride: int = 1):\n",
    "        self.Image_channel = Image_channel\n",
    "        self.filter =filter\n",
    "        self.Pooling_size =Pooling_size\n",
    "        self.mode =mode\n",
    "        self.stride = stride\n",
    "        \n",
    "\n",
    "        self.Filerting = self.__CNN_func(self.Image_channel,self.filter,self.stride)\n",
    "        \n",
    "\n",
    "    \n",
    "    def __CNN_func(self,input: np.ndarray, filter: np.ndarray, stride: int = 1):\n",
    "        input_size = input.shape[0]\n",
    "        filter_size = filter.shape[0]\n",
    "        output_size = int(((input_size - filter_size) / stride) + 1)\n",
    "        output = np.zeros((output_size, output_size))\n",
    "        \n",
    "        for i in range(0, output_size * stride, stride):\n",
    "            for j in range(0, output_size * stride, stride):\n",
    "                region = input[i:i+filter_size, j:j+filter_size]\n",
    "                output[i // stride, j // stride] = np.sum(region * filter, dtype=np.int16)\n",
    "                \n",
    "                sum_values = []\n",
    "                for row in range(filter_size):\n",
    "                    for col in range(filter_size):\n",
    "                        sum_values.append(f\"({region[row, col]} x {filter[row, col]})\")\n",
    "        return output\n",
    "    \n",
    "    def get_value(self):\n",
    "        return self.Filerting\n",
    "        \n",
    "\n",
    "\n"
   ]
  },
  {
   "cell_type": "code",
   "execution_count": 66,
   "metadata": {},
   "outputs": [
    {
     "name": "stdout",
     "output_type": "stream",
     "text": [
      "After convolution =\n",
      "[[329. 265. 315.]\n",
      " [653. 468. 524.]\n",
      " [655. 273. 480.]] \n",
      "\n",
      "After Max Poolin =\n",
      "[[653. 524.]\n",
      " [655. 524.]]\n"
     ]
    }
   ],
   "source": [
    "R = np.array([\n",
    "    [112, 125,  25,  80, 220, 110],\n",
    "    [150,  95,  15, 100, 115, 152],\n",
    "    [200, 100,  48,  90,  70, 175],\n",
    "    [187,  56,  43,  86, 180, 200],\n",
    "    [190,  87,  70,  37,  24,  35],\n",
    "    [ 80,  75,  65,  45,  32,  20]\n",
    "])\n",
    "\n",
    "R = np.pad(R, pad_width=1, mode='constant', constant_values=0)\n",
    "\n",
    "filter_1 = np.array([\n",
    "    [ 1,  1,  1,  0],\n",
    "    [ 0,  1,  1,  1,],\n",
    "    [-1,  0,  0,  1,],\n",
    "    [-1,  0,  1, -1],\n",
    "    \n",
    "])\n",
    "\n",
    "red_filter = CNN(R,filter_1,stride=2)\n",
    "\n",
    "print(\"After convolution =\")\n",
    "print(matrix:=red_filter.get_value(),\"\\n\")\n",
    "\n",
    "\n",
    "pooled_matrix = np.array([\n",
    "    [np.max(matrix[:2, :2]), np.max(matrix[:2, 2:])],\n",
    "    [np.max(matrix[1:, :2]), np.max(matrix[1:, 2:])]])\n",
    "\n",
    "\n",
    "print(\"After Max Poolin =\")\n",
    "print(pooled_matrix)\n",
    "\n",
    "\n",
    "\n",
    "\n"
   ]
  },
  {
   "cell_type": "code",
   "execution_count": 67,
   "metadata": {},
   "outputs": [
    {
     "name": "stdout",
     "output_type": "stream",
     "text": [
      "After convolution =\n",
      "[[ 210.  617.  435.]\n",
      " [ -90.  488.  260.]\n",
      " [-285.   97. -257.]] \n",
      "\n",
      "After Max Poolin =\n",
      "[[617. 435.]\n",
      " [488. 260.]]\n"
     ]
    }
   ],
   "source": [
    "G = np.array([\n",
    "    [150, 125,  38,  80,  20,  10],\n",
    "    [130,  95,  25, 100, 115, 152],\n",
    "    [ 80, 100, 148,  90,  70, 175],\n",
    "    [170, 160,  43, 160, 170, 180],\n",
    "    [100, 150,  70,  37, 124, 135],\n",
    "    [ 85,  75,  65,  45, 232, 120]\n",
    "])\n",
    "\n",
    "G = np.pad(G, pad_width=1, mode='constant', constant_values=0)\n",
    "\n",
    "\n",
    "filter_2 = np.array([\n",
    "    [ 0, -1, -1, 0],\n",
    "    [ 1, -1, 1, -1],\n",
    "    [ 1,  0,  0,  1,],\n",
    "    [ 1,  0,  1, 1],\n",
    "])\n",
    "\n",
    "red_filter = CNN(G,filter_2,stride=2)\n",
    "print(\"After convolution =\")\n",
    "print(matrix:=red_filter.get_value(),\"\\n\")\n",
    "np.max(matrix)\n",
    "\n",
    "pooled_matrix = np.array([\n",
    "    [np.max(matrix[:2, :2]), np.max(matrix[:2, 2:])],\n",
    "    [np.max(matrix[1:, :2]), np.max(matrix[1:, 2:])]\n",
    "])\n",
    "print(\"After Max Poolin =\")\n",
    "\n",
    "print(pooled_matrix)\n",
    "\n"
   ]
  },
  {
   "cell_type": "code",
   "execution_count": 68,
   "metadata": {},
   "outputs": [
    {
     "name": "stdout",
     "output_type": "stream",
     "text": [
      "After convolution =\n",
      "[[483. 432. 320.]\n",
      " [729. 574. 626.]\n",
      " [681. 414. 450.]] \n",
      "\n",
      "After Max Poolin =\n",
      "[[729. 626.]\n",
      " [729. 626.]]\n"
     ]
    }
   ],
   "source": [
    "B = np.array([\n",
    "    [200, 125,  25,  80, 220, 150],\n",
    "    [ 50,  95,  15, 150, 115, 152],\n",
    "    [ 90, 110,  48, 190,  70, 175],\n",
    "    [180, 135,  43, 106, 180, 110],\n",
    "    [ 55,  98,  70,  37,  24,  35],\n",
    "    [ 78, 150,  65,  45,  32,  80]\n",
    "])\n",
    "B = np.pad(B, pad_width=1, mode='constant', constant_values=0)\n",
    "\n",
    "filter_3 = np.array([\n",
    "    [ 1,  1,  1,  0],\n",
    "    [-1,  1,  1,  1,],\n",
    "    [0,  1,  0,  1,],\n",
    "    [-1, -1,  1,  1,]\n",
    "])\n",
    "\n",
    "red_filter = CNN(B,filter_3,stride=2)\n",
    "print(\"After convolution =\")\n",
    "print(matrix:=red_filter.get_value(),\"\\n\")\n",
    "\n",
    "\n",
    "\n",
    "pooled_matrix = np.array([\n",
    "    [np.max(matrix[:2, :2]), np.max(matrix[:2, 2:])],\n",
    "    [np.max(matrix[1:, :2]), np.max(matrix[1:, 2:])]\n",
    "])\n",
    "print(\"After Max Poolin =\")\n",
    "print(pooled_matrix)\n",
    "\n",
    "\n",
    "\n"
   ]
  }
 ],
 "metadata": {
  "kernelspec": {
   "display_name": "Python 3",
   "language": "python",
   "name": "python3"
  },
  "language_info": {
   "codemirror_mode": {
    "name": "ipython",
    "version": 3
   },
   "file_extension": ".py",
   "mimetype": "text/x-python",
   "name": "python",
   "nbconvert_exporter": "python",
   "pygments_lexer": "ipython3",
   "version": "3.13.1"
  }
 },
 "nbformat": 4,
 "nbformat_minor": 2
}

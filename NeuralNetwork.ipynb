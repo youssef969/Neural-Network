{
 "cells": [
  {
   "cell_type": "code",
   "execution_count": null,
   "metadata": {},
   "outputs": [],
   "source": [
    "import random as rn\n",
    "import math \n",
    "\n",
    "class Neural_network():\n",
    "    def __init__(self,input_layer:int,Hidden_layers:int,output_layer:int):\n",
    "        self.Hidden_layers = Hidden_layers\n",
    "        self.output_layer = output_layer\n",
    "        self.input_layer = input_layer\n",
    "\n",
    "    def Input_layer(self) -> dict :\n",
    "        return {f\"i{i}\": rn.uniform(-0.5,0.5) for i in range(1,self.input_layer + 1)}\n",
    "        \n",
    "    \n",
    "    def Hidden_layer(self,weghits:list,input_layer:dict,bais:float,activation_finction):\n",
    "\n",
    "        hidden_layer = {f\"h{i}\": 0 for i in range(1,self.Hidden_layers + 1)}\n",
    "        pathes = self.Hidden_layers ** self.input_layer\n",
    "        if pathes != len(weghits):\n",
    "            raise ValueError(\"Logical Error: Number of pathes not uqual number of weights\")\n",
    "        else:\n",
    "            index = 1\n",
    "            for x in range(0,self.Hidden_layers):\n",
    "                if x % 2 != 0: x+=1\n",
    "                result = (weghits[x] * input_layer[f\"i{1}\"]) +  (weghits[x+1] * input_layer[f\"i{2}\"]) + bais\n",
    "                hidden_layer[f\"h{index}\"]  = activation_finction(result) \n",
    "                index +=1\n",
    "        return hidden_layer\n",
    "\n",
    "        \n",
    "    def Output_layer(self,weghits:list,Hidden_layer:dict,bais:float,activation_finction) -> dict:\n",
    "        output_layer = {f\"o{i}\": 0 for i in range(1,self.output_layer + 1)}\n",
    "        pathes = len(Hidden_layer) ** self.output_layer\n",
    "        if pathes != len(weghits):\n",
    "            raise ValueError(\"Logical Error: Number of pathes not uqual number of weights\")\n",
    "        else:\n",
    "           index = 1\n",
    "           for x in range(0,self.Hidden_layers):\n",
    "                if x % 2 != 0: x+=1\n",
    "                result = (weghits[x] * Hidden_layer[f\"h{1}\"]) +  (weghits[x+1] * Hidden_layer[f\"h{2}\"]) + bais\n",
    "                output_layer[f\"o{index}\"] = activation_finction(result)\n",
    "                index +=1\n",
    "        return output_layer\n",
    "    \n",
    "    def Total_error(self,target:float,output:float):\n",
    "        return 0.5*(target - output)**2\n",
    "\n",
    "    def Tanh(self,z):\n",
    "        return (math.exp(z) - math.exp(-z)) / (math.exp(z) + math.exp(-z))\n",
    "    \n",
    "    def sigmoid(self,x):\n",
    "        return 1 / (1 + math.exp(-x))\n",
    "    \n",
    "    def Relu(self,value):\n",
    "        return max(0,value)\n",
    "    "
   ]
  },
  {
   "cell_type": "code",
   "execution_count": null,
   "metadata": {},
   "outputs": [
    {
     "name": "stdout",
     "output_type": "stream",
     "text": [
      "Intial Values to Input Layer = -0.3504576763990159 , -0.46464603114502623\n",
      "hidden Layers Nerouns Values = 0.6077451051175531 , 0.3438318655045014\n",
      "Output Layer Classes = 0.2946472110516344 , 0.4839794169702895\n",
      "Total error = 0.36587931646406946\n"
     ]
    }
   ],
   "source": [
    "\n",
    "nn = Neural_network(input_layer=2,Hidden_layers=2,output_layer=2)\n",
    "\n",
    "input_layer = nn.Input_layer()\n",
    "\n",
    "hidden_layer = nn.Hidden_layer(\n",
    "        weghits=[rn.uniform(-0.5,0.5) for i in range(4)],\n",
    "        input_layer=input_layer,\n",
    "        bais=0.5,\n",
    "        activation_finction=nn.Tanh)\n",
    "\n",
    "output_layer = nn.Output_layer(\n",
    "        weghits=[rn.uniform(-0.5,0.5) for i in range(4)],\n",
    "        Hidden_layer=hidden_layer,\n",
    "        bais=0.7,\n",
    "        activation_finction=nn.Tanh)\n",
    "\n",
    "\n",
    "total_error = nn.Total_error(1,output_layer[\"o1\"]) + nn.Total_error(0,output_layer[\"o2\"])\n",
    "\n",
    "\n",
    "print(f\"Intial Values to Input Layer = {input_layer[\"i1\"]} , {input_layer[\"i2\"]}\")\n",
    "print(f\"hidden Layers Nerouns Values = {hidden_layer[\"h1\"]} , {hidden_layer[\"h2\"]}\")\n",
    "print(f\"Output Layer Classes = {output_layer[\"o1\"]} , {output_layer[\"o2\"]}\")\n",
    "print(f\"Total error = {total_error}\")\n",
    "\n",
    "\n"
   ]
  }
 ],
 "metadata": {
  "kernelspec": {
   "display_name": "Python 3",
   "language": "python",
   "name": "python3"
  },
  "language_info": {
   "codemirror_mode": {
    "name": "ipython",
    "version": 3
   },
   "file_extension": ".py",
   "mimetype": "text/x-python",
   "name": "python",
   "nbconvert_exporter": "python",
   "pygments_lexer": "ipython3",
   "version": "3.13.1"
  }
 },
 "nbformat": 4,
 "nbformat_minor": 2
}

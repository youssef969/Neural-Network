{
 "cells": [
  {
   "cell_type": "code",
   "execution_count": 15,
   "metadata": {},
   "outputs": [],
   "source": [
    "import numpy as np \n",
    "from CNN import CNN\n",
    "import seaborn as sns "
   ]
  },
  {
   "cell_type": "code",
   "execution_count": 36,
   "metadata": {},
   "outputs": [
    {
     "name": "stdout",
     "output_type": "stream",
     "text": [
      "(0 x 1) + (0 x 1) + (0 x 1) + (0 x 0) + (0 x 0) + (112 x 1) + (125 x 1) + (25 x 1) + (0 x -1) + (150 x 0) + (95 x 0) + (15 x 1) + (0 x -1) + (200 x 0) + (100 x 1) + (48 x -1) = 329.0\n",
      "\n",
      "\n",
      "(0 x 1) + (0 x 1) + (0 x 1) + (0 x 0) + (125 x 0) + (25 x 1) + (80 x 1) + (220 x 1) + (95 x -1) + (15 x 0) + (100 x 0) + (115 x 1) + (100 x -1) + (48 x 0) + (90 x 1) + (70 x -1) = 265.0\n",
      "\n",
      "\n",
      "(0 x 1) + (0 x 1) + (0 x 1) + (0 x 0) + (80 x 0) + (220 x 1) + (110 x 1) + (0 x 1) + (100 x -1) + (115 x 0) + (152 x 0) + (0 x 1) + (90 x -1) + (70 x 0) + (175 x 1) + (0 x -1) = 315.0\n",
      "\n",
      "\n",
      "(0 x 1) + (150 x 1) + (95 x 1) + (15 x 0) + (0 x 0) + (200 x 1) + (100 x 1) + (48 x 1) + (0 x -1) + (187 x 0) + (56 x 0) + (43 x 1) + (0 x -1) + (190 x 0) + (87 x 1) + (70 x -1) = 653.0\n",
      "\n",
      "\n",
      "(95 x 1) + (15 x 1) + (100 x 1) + (115 x 0) + (100 x 0) + (48 x 1) + (90 x 1) + (70 x 1) + (56 x -1) + (43 x 0) + (86 x 0) + (180 x 1) + (87 x -1) + (70 x 0) + (37 x 1) + (24 x -1) = 468.0\n",
      "\n",
      "\n",
      "(100 x 1) + (115 x 1) + (152 x 1) + (0 x 0) + (90 x 0) + (70 x 1) + (175 x 1) + (0 x 1) + (86 x -1) + (180 x 0) + (200 x 0) + (0 x 1) + (37 x -1) + (24 x 0) + (35 x 1) + (0 x -1) = 524.0\n",
      "\n",
      "\n",
      "(0 x 1) + (187 x 1) + (56 x 1) + (43 x 0) + (0 x 0) + (190 x 1) + (87 x 1) + (70 x 1) + (0 x -1) + (80 x 0) + (75 x 0) + (65 x 1) + (0 x -1) + (0 x 0) + (0 x 1) + (0 x -1) = 655.0\n",
      "\n",
      "\n",
      "(56 x 1) + (43 x 1) + (86 x 1) + (180 x 0) + (87 x 0) + (70 x 1) + (37 x 1) + (24 x 1) + (75 x -1) + (65 x 0) + (45 x 0) + (32 x 1) + (0 x -1) + (0 x 0) + (0 x 1) + (0 x -1) = 273.0\n",
      "\n",
      "\n",
      "(86 x 1) + (180 x 1) + (200 x 1) + (0 x 0) + (37 x 0) + (24 x 1) + (35 x 1) + (0 x 1) + (45 x -1) + (32 x 0) + (20 x 0) + (0 x 1) + (0 x -1) + (0 x 0) + (0 x 1) + (0 x -1) = 480.0\n",
      "\n",
      "\n",
      "[[329. 265. 315.]\n",
      " [653. 468. 524.]\n",
      " [655. 273. 480.]] \n",
      "\n",
      "[[653. 524.]\n",
      " [655. 524.]]\n"
     ]
    },
    {
     "data": {
      "text/plain": [
       "<Axes: >"
      ]
     },
     "execution_count": 36,
     "metadata": {},
     "output_type": "execute_result"
    },
    {
     "data": {
      "image/png": "[encoded data removed]",
      "text/plain": [
       "<Figure size 640x480 with 1 Axes>"
      ]
     },
     "metadata": {},
     "output_type": "display_data"
    }
   ],
   "source": [
    "R = np.array([\n",
    "    [112, 125,  25,  80, 220, 110],\n",
    "    [150,  95,  15, 100, 115, 152],\n",
    "    [200, 100,  48,  90,  70, 175],\n",
    "    [187,  56,  43,  86, 180, 200],\n",
    "    [190,  87,  70,  37,  24,  35],\n",
    "    [ 80,  75,  65,  45,  32,  20]\n",
    "])\n",
    "\n",
    "R = np.pad(R, pad_width=1, mode='constant', constant_values=0)\n",
    "\n",
    "filter_1 = np.array([\n",
    "    [ 1,  1,  1,  0],\n",
    "    [ 0,  1,  1,  1,],\n",
    "    [-1,  0,  0,  1,],\n",
    "    [-1,  0,  1, -1],\n",
    "    \n",
    "])\n",
    "\n",
    "red_filter = CNN(R,filter_1,stride=2)\n",
    "print(matrix:=red_filter.get_value(),\"\\n\")\n",
    "# print(np.max(matrix))\n",
    "\n",
    "pooled_matrix = np.array([\n",
    "    [np.max(matrix[:2, :2]), np.max(matrix[:2, 2:])],\n",
    "    [np.max(matrix[1:, :2]), np.max(matrix[1:, 2:])]\n",
    "])\n",
    "print(pooled_matrix)\n",
    "\n",
    "\n",
    "sns.heatmap(pooled_matrix,annot=True,cbar=False,fmt=\".0f\", cmap=[\"#fab0b0\",\"#fab0b0\"],linewidths=1, linecolor=\"White\")\n",
    "# sns.heatmap(R,annot=True,cbar=False,fmt=\".0f\", cmap=[\"#fab0b0\",\"#fab0b0\"],linewidths=1, linecolor=\"White\")\n",
    "\n",
    "\n"
   ]
  },
  {
   "cell_type": "code",
   "execution_count": 41,
   "metadata": {},
   "outputs": [
    {
     "name": "stdout",
     "output_type": "stream",
     "text": [
      "(0 x 0) + (0 x -1) + (0 x -1) + (0 x 0) + (0 x 1) + (150 x -1) + (125 x 1) + (38 x -1) + (0 x 1) + (130 x 0) + (95 x 0) + (25 x 1) + (0 x 1) + (80 x 0) + (100 x 1) + (148 x 1) = 210.0\n",
      "\n",
      "\n",
      "(0 x 0) + (0 x -1) + (0 x -1) + (0 x 0) + (125 x 1) + (38 x -1) + (80 x 1) + (20 x -1) + (95 x 1) + (25 x 0) + (100 x 0) + (115 x 1) + (100 x 1) + (148 x 0) + (90 x 1) + (70 x 1) = 617.0\n",
      "\n",
      "\n",
      "(0 x 0) + (0 x -1) + (0 x -1) + (0 x 0) + (80 x 1) + (20 x -1) + (10 x 1) + (0 x -1) + (100 x 1) + (115 x 0) + (152 x 0) + (0 x 1) + (90 x 1) + (70 x 0) + (175 x 1) + (0 x 1) = 435.0\n",
      "\n",
      "\n",
      "(0 x 0) + (130 x -1) + (95 x -1) + (25 x 0) + (0 x 1) + (80 x -1) + (100 x 1) + (148 x -1) + (0 x 1) + (170 x 0) + (160 x 0) + (43 x 1) + (0 x 1) + (100 x 0) + (150 x 1) + (70 x 1) = -90.0\n",
      "\n",
      "\n",
      "(95 x 0) + (25 x -1) + (100 x -1) + (115 x 0) + (100 x 1) + (148 x -1) + (90 x 1) + (70 x -1) + (160 x 1) + (43 x 0) + (160 x 0) + (170 x 1) + (150 x 1) + (70 x 0) + (37 x 1) + (124 x 1) = 488.0\n",
      "\n",
      "\n",
      "(100 x 0) + (115 x -1) + (152 x -1) + (0 x 0) + (90 x 1) + (70 x -1) + (175 x 1) + (0 x -1) + (160 x 1) + (170 x 0) + (180 x 0) + (0 x 1) + (37 x 1) + (124 x 0) + (135 x 1) + (0 x 1) = 260.0\n",
      "\n",
      "\n",
      "(0 x 0) + (170 x -1) + (160 x -1) + (43 x 0) + (0 x 1) + (100 x -1) + (150 x 1) + (70 x -1) + (0 x 1) + (85 x 0) + (75 x 0) + (65 x 1) + (0 x 1) + (0 x 0) + (0 x 1) + (0 x 1) = -285.0\n",
      "\n",
      "\n",
      "(160 x 0) + (43 x -1) + (160 x -1) + (170 x 0) + (150 x 1) + (70 x -1) + (37 x 1) + (124 x -1) + (75 x 1) + (65 x 0) + (45 x 0) + (232 x 1) + (0 x 1) + (0 x 0) + (0 x 1) + (0 x 1) = 97.0\n",
      "\n",
      "\n",
      "(160 x 0) + (170 x -1) + (180 x -1) + (0 x 0) + (37 x 1) + (124 x -1) + (135 x 1) + (0 x -1) + (45 x 1) + (232 x 0) + (120 x 0) + (0 x 1) + (0 x 1) + (0 x 0) + (0 x 1) + (0 x 1) = -257.0\n",
      "\n",
      "\n",
      "[[ 210.  617.  435.]\n",
      " [ -90.  488.  260.]\n",
      " [-285.   97. -257.]] \n",
      "\n",
      "[[617. 435.]\n",
      " [488. 260.]]\n"
     ]
    },
    {
     "data": {
      "text/plain": [
       "<Axes: >"
      ]
     },
     "execution_count": 41,
     "metadata": {},
     "output_type": "execute_result"
    },
    {
     "data": {
      "image/png": "[encoded data removed]",
      "text/plain": [
       "<Figure size 640x480 with 1 Axes>"
      ]
     },
     "metadata": {},
     "output_type": "display_data"
    }
   ],
   "source": [
    "G = np.array([\n",
    "    [150, 125,  38,  80,  20,  10],\n",
    "    [130,  95,  25, 100, 115, 152],\n",
    "    [ 80, 100, 148,  90,  70, 175],\n",
    "    [170, 160,  43, 160, 170, 180],\n",
    "    [100, 150,  70,  37, 124, 135],\n",
    "    [ 85,  75,  65,  45, 232, 120]\n",
    "])\n",
    "\n",
    "G = np.pad(G, pad_width=1, mode='constant', constant_values=0)\n",
    "\n",
    "\n",
    "filter_2 = np.array([\n",
    "    [ 0, -1, -1, 0],\n",
    "    [ 1, -1, 1, -1],\n",
    "    [ 1,  0,  0,  1,],\n",
    "    [ 1,  0,  1, 1],\n",
    "])\n",
    "\n",
    "red_filter = CNN(G,filter_2,stride=2)\n",
    "print(matrix:=red_filter.get_value(),\"\\n\")\n",
    "np.max(matrix)\n",
    "\n",
    "pooled_matrix = np.array([\n",
    "    [np.max(matrix[:2, :2]), np.max(matrix[:2, 2:])],\n",
    "    [np.max(matrix[1:, :2]), np.max(matrix[1:, 2:])]\n",
    "])\n",
    "print(pooled_matrix)\n",
    "\n",
    "sns.heatmap(pooled_matrix,annot=True,cbar=False,fmt=\".0f\", cmap=[\"#a9d18e\",\"#a9d18e\"],linewidths=1, linecolor=\"White\")\n"
   ]
  },
  {
   "cell_type": "code",
   "execution_count": 47,
   "metadata": {},
   "outputs": [
    {
     "name": "stdout",
     "output_type": "stream",
     "text": [
      "(0 x 1) + (0 x 1) + (0 x 1) + (0 x 0) + (0 x -1) + (200 x 1) + (125 x 1) + (25 x 1) + (0 x 0) + (50 x 1) + (95 x 0) + (15 x 1) + (0 x -1) + (90 x -1) + (110 x 1) + (48 x 1) = 483.0\n",
      "\n",
      "\n",
      "(0 x 1) + (0 x 1) + (0 x 1) + (0 x 0) + (125 x -1) + (25 x 1) + (80 x 1) + (220 x 1) + (95 x 0) + (15 x 1) + (150 x 0) + (115 x 1) + (110 x -1) + (48 x -1) + (190 x 1) + (70 x 1) = 432.0\n",
      "\n",
      "\n",
      "(0 x 1) + (0 x 1) + (0 x 1) + (0 x 0) + (80 x -1) + (220 x 1) + (150 x 1) + (0 x 1) + (150 x 0) + (115 x 1) + (152 x 0) + (0 x 1) + (190 x -1) + (70 x -1) + (175 x 1) + (0 x 1) = 320.0\n",
      "\n",
      "\n",
      "(0 x 1) + (50 x 1) + (95 x 1) + (15 x 0) + (0 x -1) + (90 x 1) + (110 x 1) + (48 x 1) + (0 x 0) + (180 x 1) + (135 x 0) + (43 x 1) + (0 x -1) + (55 x -1) + (98 x 1) + (70 x 1) = 729.0\n",
      "\n",
      "\n",
      "(95 x 1) + (15 x 1) + (150 x 1) + (115 x 0) + (110 x -1) + (48 x 1) + (190 x 1) + (70 x 1) + (135 x 0) + (43 x 1) + (106 x 0) + (180 x 1) + (98 x -1) + (70 x -1) + (37 x 1) + (24 x 1) = 574.0\n",
      "\n",
      "\n",
      "(150 x 1) + (115 x 1) + (152 x 1) + (0 x 0) + (190 x -1) + (70 x 1) + (175 x 1) + (0 x 1) + (106 x 0) + (180 x 1) + (110 x 0) + (0 x 1) + (37 x -1) + (24 x -1) + (35 x 1) + (0 x 1) = 626.0\n",
      "\n",
      "\n",
      "(0 x 1) + (180 x 1) + (135 x 1) + (43 x 0) + (0 x -1) + (55 x 1) + (98 x 1) + (70 x 1) + (0 x 0) + (78 x 1) + (150 x 0) + (65 x 1) + (0 x -1) + (0 x -1) + (0 x 1) + (0 x 1) = 681.0\n",
      "\n",
      "\n",
      "(135 x 1) + (43 x 1) + (106 x 1) + (180 x 0) + (98 x -1) + (70 x 1) + (37 x 1) + (24 x 1) + (150 x 0) + (65 x 1) + (45 x 0) + (32 x 1) + (0 x -1) + (0 x -1) + (0 x 1) + (0 x 1) = 414.0\n",
      "\n",
      "\n",
      "(106 x 1) + (180 x 1) + (110 x 1) + (0 x 0) + (37 x -1) + (24 x 1) + (35 x 1) + (0 x 1) + (45 x 0) + (32 x 1) + (80 x 0) + (0 x 1) + (0 x -1) + (0 x -1) + (0 x 1) + (0 x 1) = 450.0\n",
      "\n",
      "\n",
      "[[483. 432. 320.]\n",
      " [729. 574. 626.]\n",
      " [681. 414. 450.]] \n",
      "\n"
     ]
    },
    {
     "data": {
      "text/plain": [
       "<Axes: >"
      ]
     },
     "execution_count": 47,
     "metadata": {},
     "output_type": "execute_result"
    },
    {
     "data": {
      "image/png": "[encoded data removed]",
      "text/plain": [
       "<Figure size 640x480 with 1 Axes>"
      ]
     },
     "metadata": {},
     "output_type": "display_data"
    }
   ],
   "source": [
    "B = np.array([\n",
    "    [200, 125,  25,  80, 220, 150],\n",
    "    [ 50,  95,  15, 150, 115, 152],\n",
    "    [ 90, 110,  48, 190,  70, 175],\n",
    "    [180, 135,  43, 106, 180, 110],\n",
    "    [ 55,  98,  70,  37,  24,  35],\n",
    "    [ 78, 150,  65,  45,  32,  80]\n",
    "])\n",
    "B = np.pad(B, pad_width=1, mode='constant', constant_values=0)\n",
    "\n",
    "filter_3 = np.array([\n",
    "    [ 1,  1,  1,  0],\n",
    "    [-1,  1,  1,  1,],\n",
    "    [0,  1,  0,  1,],\n",
    "    [-1, -1,  1,  1,]\n",
    "])\n",
    "\n",
    "red_filter = CNN(B,filter_3,stride=2)\n",
    "print(matrix:=red_filter.get_value(),\"\\n\")\n",
    "# np.max(matrix)\n",
    "\n",
    "# print(np.max(matrix))\n",
    "pooled_matrix = np.array([\n",
    "    [np.max(matrix[:2, :2]), np.max(matrix[:2, 2:])],\n",
    "    [np.max(matrix[1:, :2]), np.max(matrix[1:, 2:])]\n",
    "])\n",
    "# print(pooled_matrix)\n",
    "\n",
    "\n",
    "sns.heatmap(pooled_matrix,annot=True,cbar=False,fmt=\".0f\", cmap=[\"#dae3f3\",\"#dae3f3\"],linewidths=1, linecolor=\"White\")\n",
    "\n"
   ]
  }
 ],
 "metadata": {
  "kernelspec": {
   "display_name": "Python 3",
   "language": "python",
   "name": "python3"
  },
  "language_info": {
   "codemirror_mode": {
    "name": "ipython",
    "version": 3
   },
   "file_extension": ".py",
   "mimetype": "text/x-python",
   "name": "python",
   "nbconvert_exporter": "python",
   "pygments_lexer": "ipython3",
   "version": "3.13.1"
  }
 },
 "nbformat": 4,
 "nbformat_minor": 2
}
